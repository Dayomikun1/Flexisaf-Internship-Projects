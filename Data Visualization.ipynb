{
 "cells": [
  {
   "cell_type": "code",
   "execution_count": 1,
   "metadata": {},
   "outputs": [],
   "source": [
    "import pandas as pd\n",
    "import matplotlib.pyplot as plt\n"
   ]
  },
  {
   "cell_type": "code",
   "execution_count": null,
   "metadata": {},
   "outputs": [],
   "source": [
    "file_path = r'C:\\Users\\a0ayo\\Documents\\MINE\\DATA ANALYSIS\\FLEXISAF\\Wk 1\\company_sales_data.csv'\n",
    "sales_data = pd.read_csv(file_path)\n",
    "\n",
    "sales_data.head()"
   ]
  },
  {
   "cell_type": "code",
   "execution_count": null,
   "metadata": {},
   "outputs": [],
   "source": [
    "# Exercise 1: Line plot for total profit of all months\n",
    "plt.figure(figsize=(10, 6))\n",
    "plt.plot(sales_data['month_number'], sales_data['total_profit'], marker='o', color='b', label='Total Profit')\n",
    "plt.title('Total Profit of All Months', fontsize=14)\n",
    "plt.xlabel('Month Number', fontsize=12)\n",
    "plt.ylabel('Total Profit (in USD)', fontsize=12)\n",
    "plt.xticks(sales_data['month_number'])\n",
    "plt.grid(True, linestyle='--', alpha=0.6)\n",
    "plt.legend()\n",
    "plt.show()"
   ]
  },
  {
   "cell_type": "code",
   "execution_count": null,
   "metadata": {},
   "outputs": [],
   "source": [
    "# Exercise 2: Subplot for bathing soap and facewash sales\n",
    "plt.figure(figsize=(14, 6))\n",
    "\n",
    "# Subplot 1: Bathing soap sales\n",
    "plt.subplot(1, 2, 1)\n",
    "plt.plot(sales_data['month_number'], sales_data['bathingsoap'], marker='o', color='g', label='Bathing Soap Sales')\n",
    "plt.title('Bathing Soap Sales', fontsize=14)\n",
    "plt.xlabel('Month Number', fontsize=12)\n",
    "plt.ylabel('Sales Units', fontsize=12)\n",
    "plt.xticks(sales_data['month_number'])\n",
    "plt.grid(True, linestyle='--', alpha=0.6)\n",
    "plt.legend()\n",
    "\n",
    "# Subplot 2: Facewash sales\n",
    "plt.subplot(1, 2, 2)\n",
    "plt.plot(sales_data['month_number'], sales_data['facewash'], marker='o', color='r', label='Facewash Sales')\n",
    "plt.title('Facewash Sales', fontsize=14)\n",
    "plt.xlabel('Month Number', fontsize=12)\n",
    "plt.ylabel('Sales Units', fontsize=12)\n",
    "plt.xticks(sales_data['month_number'])\n",
    "plt.grid(True, linestyle='--', alpha=0.6)\n",
    "plt.legend()\n",
    "\n",
    "plt.tight_layout()\n",
    "plt.show()"
   ]
  }
 ],
 "metadata": {
  "kernelspec": {
   "display_name": "Python 3",
   "language": "python",
   "name": "python3"
  },
  "language_info": {
   "codemirror_mode": {
    "name": "ipython",
    "version": 3
   },
   "file_extension": ".py",
   "mimetype": "text/x-python",
   "name": "python",
   "nbconvert_exporter": "python",
   "pygments_lexer": "ipython3",
   "version": "3.13.1"
  }
 },
 "nbformat": 4,
 "nbformat_minor": 2
}
